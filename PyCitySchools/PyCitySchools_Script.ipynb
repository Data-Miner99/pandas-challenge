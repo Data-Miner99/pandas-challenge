{
 "cells": [
  {
   "cell_type": "markdown",
   "id": "1c91d88e",
   "metadata": {},
   "source": [
    "# PyCity Schools Analysis\n"
   ]
  },
  {
   "cell_type": "code",
   "execution_count": null,
   "id": "3808362a",
   "metadata": {},
   "outputs": [],
   "source": [
    "# Import important libraries\n",
    "import pandas as pd\n",
    "from pathlib import Path"
   ]
  },
  {
   "cell_type": "code",
   "execution_count": null,
   "id": "ff61106e",
   "metadata": {},
   "outputs": [],
   "source": [
    "# Load files \n",
    "load_school_data = Path(\"Resources/schools_complete.csv\")\n",
    "load_student_data = Path(\"Resources/students_complete.csv\")"
   ]
  },
  {
   "cell_type": "code",
   "execution_count": null,
   "id": "2abb962b",
   "metadata": {},
   "outputs": [],
   "source": [
    "# Read files into dataframes using Pandas\n",
    "school_data = pd.read_csv(load_school_data)\n",
    "student_data = pd.read_csv(load_student_data)"
   ]
  },
  {
   "cell_type": "code",
   "execution_count": null,
   "id": "ffc1055f",
   "metadata": {},
   "outputs": [],
   "source": [
    "# Merge the datasets\n",
    "complete_school_data = pd.merge(student_data, school_data, how=\"left\", on=[\"school_name\", \"school_name\"])\n",
    "complete_school_data.head()"
   ]
  },
  {
   "cell_type": "markdown",
   "id": "9689148f",
   "metadata": {},
   "source": [
    "# District Summary"
   ]
  },
  {
   "cell_type": "code",
   "execution_count": null,
   "id": "efd4086a",
   "metadata": {},
   "outputs": [],
   "source": [
    "# Calculate the total number of unique schools\n",
    "school_count = complete_school_data['school_name'].nunique()\n",
    "school_count"
   ]
  },
  {
   "cell_type": "code",
   "execution_count": null,
   "id": "24c92778",
   "metadata": {},
   "outputs": [],
   "source": [
    "# Calculate the total number of students\n",
    "total_students = complete_school_data['Student ID'].count()\n",
    "total_students"
   ]
  },
  {
   "cell_type": "code",
   "execution_count": null,
   "id": "0f191c6e",
   "metadata": {},
   "outputs": [],
   "source": [
    "# Calculate the total budget\n",
    "total_budget = school_data['budget'].sum()\n",
    "total_budget"
   ]
  },
  {
   "cell_type": "code",
   "execution_count": null,
   "id": "82efcabf",
   "metadata": {},
   "outputs": [],
   "source": [
    "# Calculate the average math score\n",
    "average_score_math = complete_school_data['math_score'].mean()\n",
    "average_score_math"
   ]
  },
  {
   "cell_type": "code",
   "execution_count": null,
   "id": "71510c45",
   "metadata": {},
   "outputs": [],
   "source": [
    "# Calculate the avarage reading score\n",
    "average_score_reading = complete_school_data['reading_score'].mean()\n",
    "average_score_reading"
   ]
  },
  {
   "cell_type": "code",
   "execution_count": null,
   "id": "41470029",
   "metadata": {},
   "outputs": [],
   "source": [
    "# Calculate the percentage of students who scored 70 or more in math\n",
    "students_passed_math_count = complete_school_data[(complete_school_data[\"math_score\"] >= 70)].count()[\"student_name\"]\n",
    "percentage_passed_math = students_passed_math_count / float(total_students) * 100\n",
    "percentage_passed_math"
   ]
  },
  {
   "cell_type": "code",
   "execution_count": null,
   "id": "628b80fd",
   "metadata": {},
   "outputs": [],
   "source": [
    "# Calculate the percentage of students who scored 70 or more in reading\n",
    "students_passed_reading_count = complete_school_data[(complete_school_data[\"reading_score\"] >= 70)].count()[\"student_name\"]\n",
    "percentage_passed_reading = students_passed_reading_count / float(total_students) * 100\n",
    "percentage_passed_reading"
   ]
  },
  {
   "cell_type": "code",
   "execution_count": null,
   "id": "f12e03a2",
   "metadata": {},
   "outputs": [],
   "source": [
    "# Calculate the percentage of students who passed math and reading\n",
    "passed_math_reading_count = complete_school_data[\n",
    "    (complete_school_data[\"math_score\"] >= 70) & (complete_school_data[\"reading_score\"] >= 70)\n",
    "].count()[\"student_name\"]\n",
    "total_passing_rate = passed_math_reading_count / float(total_students) * 100\n",
    "total_passing_rate"
   ]
  },
  {
   "cell_type": "code",
   "execution_count": null,
   "id": "a225d822",
   "metadata": {},
   "outputs": [],
   "source": [
    "# Create a high-level snapshot of the district's key metrics in a dataframe\n",
    "district_summary = pd.DataFrame({\"Total Schools\": [school_count],\n",
    "                                 \"Total Students\": [total_students],\n",
    "                                 \"Total Budget\": [total_budget],\n",
    "                                 \"Average Math Score\": [average_score_math],\n",
    "                                 \"Average Reading Score\": [average_score_reading],\n",
    "                                 \"Percentage Passed Math\": [percentage_passed_math],\n",
    "                                 \"Percentage Passed Reading\": [percentage_passed_reading],\n",
    "                                 \"Total Passing Rate\": [total_passing_rate]})\n",
    "\n",
    "district_summary[\"Total Students\"] = district_summary[\"Total Students\"].map(\"{:,}\".format)\n",
    "district_summary[\"Total Budget\"] = district_summary[\"Total Budget\"].map(\"${:,.2f}\".format)\n",
    "\n",
    "district_summary"
   ]
  },
  {
   "cell_type": "markdown",
   "id": "cee2d440",
   "metadata": {},
   "source": [
    "# School Summary"
   ]
  },
  {
   "cell_type": "code",
   "execution_count": null,
   "id": "3551b64a",
   "metadata": {},
   "outputs": [],
   "source": [
    "# Select the type per school from school data\n",
    "school_type = school_data.set_index([\"school_name\"])[\"type\"]"
   ]
  },
  {
   "cell_type": "code",
   "execution_count": null,
   "id": "e40b3f77",
   "metadata": {},
   "outputs": [],
   "source": [
    "# Calculate the total student count per school form school_data\n",
    "student_per_school_count = complete_school_data[\"school_name\"].value_counts()"
   ]
  },
  {
   "cell_type": "code",
   "execution_count": null,
   "id": "5af4faf1",
   "metadata": {},
   "outputs": [],
   "source": [
    "# Calculate the total school budget and per capita spending per school from school_data\n",
    "total_budget_per_school = complete_school_data.groupby(\"school_name\")[\"budget\"].mean()\n",
    "per_school_capita = total_budget_per_school / student_per_school_count"
   ]
  },
  {
   "cell_type": "code",
   "execution_count": null,
   "id": "fa21a379",
   "metadata": {},
   "outputs": [],
   "source": [
    "# Calculate the average test scores per school from complete_school_data\n",
    "avg_math_score_per_school = complete_school_data.groupby(\"school_name\")[\"math_score\"].mean()\n",
    "avg_reading_score_per_school = complete_school_data.groupby(\"school_name\")[\"reading_score\"].mean()"
   ]
  },
  {
   "cell_type": "code",
   "execution_count": null,
   "id": "7987f77e",
   "metadata": {},
   "outputs": [],
   "source": [
    "# Calculate the number of students per school with math scores of 70 or higher from complete_school_data\n",
    "students_passed_math = complete_school_data[(complete_school_data[\"math_score\"] >= 70)]\n",
    "school_students_passed_math = students_passed_math.groupby([\"school_name\"]).count()[\"student_name\"] / student_per_school_count * 100"
   ]
  },
  {
   "cell_type": "code",
   "execution_count": null,
   "id": "70d9d8e3",
   "metadata": {},
   "outputs": [],
   "source": [
    "# Calculate the number of students per school with reading scores of 70 or higher from complete_school_data\n",
    "students_passed_reading = complete_school_data[(complete_school_data[\"reading_score\"] >= 70)]\n",
    "school_students_passed_reading  = students_passed_reading.groupby([\"school_name\"]).count()[\"student_name\"] / student_per_school_count * 100"
   ]
  },
  {
   "cell_type": "code",
   "execution_count": null,
   "id": "09e5cc7b",
   "metadata": {},
   "outputs": [],
   "source": [
    "# Calculate the number of students per school that passed both math and reading with scores of 70 or higher\n",
    "students_passed_math_and_reading = complete_school_data[\n",
    "    (complete_school_data[\"reading_score\"] >= 70) & (complete_school_data[\"math_score\"] >= 70)\n",
    "]\n",
    "school_students_passing_math_and_reading = students_passed_math_and_reading.groupby([\"school_name\"]).size()"
   ]
  },
  {
   "cell_type": "code",
   "execution_count": null,
   "id": "fc5f7154",
   "metadata": {},
   "outputs": [],
   "source": [
    "# Calculate the passing rates\n",
    "per_school_passing_math = school_students_passed_math\n",
    "per_school_passing_reading = school_students_passed_reading\n",
    "overall_passing_rate = school_students_passing_math_and_reading / student_per_school_count * 100"
   ]
  },
  {
   "cell_type": "code",
   "execution_count": null,
   "id": "ca62b18c",
   "metadata": {},
   "outputs": [],
   "source": [
    "# Create a DataFrame called `per_school_summary` with columns for the calculations above.\n",
    "per_school_summary = pd.DataFrame({\"School Type\": school_type,\n",
    "                                   \"Total Students\": student_per_school_count,\n",
    "                                   \"Total School Budget\": total_budget_per_school,\n",
    "                                   \"Budget Per Student\": per_school_capita,\n",
    "                                   \"Average Math Score\": avg_math_score_per_school,\n",
    "                                   \"Average Reading Score\": avg_reading_score_per_school,\n",
    "                                   \"Percentage Passed Math\":per_school_passing_math,\n",
    "                                   \"Percentage Passing Reading\": per_school_passing_reading,\n",
    "                                   \"Percentage Overall Passing Rate\": overall_passing_rate})\n",
    "\n",
    "per_school_summary[\"Total School Budget\"] = per_school_summary[\"Total School Budget\"].map(\"${:,.2f}\".format)\n",
    "per_school_summary[\"Budget Per Student\"] = per_school_summary[\"Budget Per Student\"].map(\"${:,.2f}\".format)\n",
    "\n",
    "per_school_summary"
   ]
  },
  {
   "cell_type": "markdown",
   "id": "fdfa64b5",
   "metadata": {},
   "source": [
    "# Highest-Performing Schools (by Percentage Overall Passing)"
   ]
  },
  {
   "cell_type": "code",
   "execution_count": null,
   "id": "ee03b9e9",
   "metadata": {},
   "outputs": [],
   "source": [
    "# Sort the schools by `% Overall Passing` in descending order and display the top 5 rows.\n",
    "top_schools = per_school_summary.sort_values([\"Percentage Overall Passing Rate\"], ascending=False)\n",
    "top_schools.head(5)"
   ]
  },
  {
   "cell_type": "markdown",
   "id": "f197981c",
   "metadata": {},
   "source": []
  },
  {
   "cell_type": "code",
   "execution_count": null,
   "id": "8628032b",
   "metadata": {},
   "outputs": [],
   "source": [
    "# Sort the schools by `% Overall Passing` in ascending order and display the top 5 rows.\n",
    "bottom_schools = per_school_summary.sort_values([\"Percentage Overall Passing Rate\"], ascending=True)\n",
    "bottom_schools.head(5)"
   ]
  },
  {
   "cell_type": "code",
   "execution_count": null,
   "id": "eb359b01",
   "metadata": {},
   "outputs": [],
   "source": [
    "# Separate the data by grade\n",
    "ninth_graders = complete_school_data[(complete_school_data[\"grade\"] == \"9th\")]\n",
    "tenth_graders = complete_school_data[(complete_school_data[\"grade\"] == \"10th\")]\n",
    "eleventh_graders = complete_school_data[(complete_school_data[\"grade\"] == \"11th\")]\n",
    "twelfth_graders = complete_school_data[(complete_school_data[\"grade\"] == \"12th\")]\n",
    "\n",
    "# Group by `school_name` and take the mean of the `math_score` column for each.\n",
    "ninth_graders_math_scores = ninth_graders.groupby(\"school_name\")[\"math_score\"].mean()\n",
    "tenth_graders_math_scores = tenth_graders.groupby(\"school_name\")[\"math_score\"].mean()\n",
    "eleventh_graders_math_scores = eleventh_graders.groupby(\"school_name\")[\"math_score\"].mean()\n",
    "twelfth_graders_math_scores = twelfth_graders.groupby(\"school_name\")[\"math_score\"].mean()\n",
    "\n",
    "# Combine each of the scores above into single DataFrame called `math_scores_by_grade`\n",
    "math_scores_by_grade = pd.DataFrame({\"9th\": ninth_graders_math_scores,\n",
    "                                     \"10th\": tenth_graders_math_scores,\n",
    "                                     \"11th\": eleventh_graders_math_scores,\n",
    "                                     \"12th\": twelfth_graders_math_scores})\n",
    "\n",
    "# Minor data wrangling\n",
    "math_scores_by_grade.index.name = None\n",
    "\n",
    "# Display the DataFrame\n",
    "math_scores_by_grade"
   ]
  },
  {
   "cell_type": "code",
   "execution_count": null,
   "id": "1c7560dc",
   "metadata": {},
   "outputs": [],
   "source": [
    "# Use the code provided to separate the data by grade\n",
    "ninth_graders = complete_school_data[(complete_school_data[\"grade\"] == \"9th\")]\n",
    "tenth_graders = complete_school_data[(complete_school_data[\"grade\"] == \"10th\")]\n",
    "eleventh_graders = complete_school_data[(complete_school_data[\"grade\"] == \"11th\")]\n",
    "twelfth_graders = complete_school_data[(complete_school_data[\"grade\"] == \"12th\")]\n",
    "\n",
    "# Group by `school_name` and take the mean of the `reading_score` column for each.\n",
    "ninth_graders_reading_scores = ninth_graders.groupby(\"school_name\")[\"reading_score\"].mean()\n",
    "tenth_graders_reading_scores = tenth_graders.groupby(\"school_name\")[\"reading_score\"].mean()\n",
    "eleventh_graders_reading_scores = eleventh_graders.groupby(\"school_name\")[\"reading_score\"].mean()\n",
    "twelfth_graders_reading_scores = twelfth_graders.groupby(\"school_name\")[\"reading_score\"].mean()\n",
    "\n",
    "# Combine each of the scores above into single DataFrame called `reading_scores_by_grade`\n",
    "reading_scores_by_grade = pd.DataFrame({\"9th\": ninth_graders_reading_scores,\n",
    "                                     \"10th\": tenth_graders_reading_scores,\n",
    "                                     \"11th\": eleventh_graders_reading_scores,\n",
    "                                     \"12th\": twelfth_graders_reading_scores})\n",
    "\n",
    "# Minor data wrangling\n",
    "reading_scores_by_grade.index.name = None\n",
    "\n",
    "# Display the DataFrame\n",
    "reading_scores_by_grade"
   ]
  },
  {
   "cell_type": "code",
   "execution_count": null,
   "id": "8a57a358",
   "metadata": {},
   "outputs": [],
   "source": [
    "# Establish the bins\n",
    "spending_bins = [0, 585, 630, 645, 680]\n",
    "titles = [\"<$585\", \"$585-630\", \"$630-645\", \"$645-680\"]"
   ]
  },
  {
   "cell_type": "code",
   "execution_count": null,
   "id": "feb3d007",
   "metadata": {},
   "outputs": [],
   "source": [
    "# Create a copy of the school summary since it has the \"Per Student Budget\"\n",
    "school_spending_df = per_school_summary.copy()"
   ]
  },
  {
   "cell_type": "code",
   "execution_count": null,
   "id": "6f688172",
   "metadata": {},
   "outputs": [],
   "source": [
    "# Use `pd.cut` to categorize spending based on the bins.\n",
    "school_spending_df[\"Spending Ranges (Per Student)\"] = pd.cut(per_school_capita, spending_bins, labels=titles)\n",
    "school_spending_df"
   ]
  },
  {
   "cell_type": "code",
   "execution_count": null,
   "id": "92f7282b",
   "metadata": {},
   "outputs": [],
   "source": [
    "#  Calculate averages for the desired columns.\n",
    "spending_math_scores = school_spending_df.groupby([\"Spending Ranges (Per Student)\"], observed=True)[\"Average Math Score\"].mean()\n",
    "spending_reading_scores = school_spending_df.groupby([\"Spending Ranges (Per Student)\"], observed=True)[\"Average Reading Score\"].mean()\n",
    "spending_passing_math = school_spending_df.groupby([\"Spending Ranges (Per Student)\"], observed=True)[\"Percentage Passed Math\"].mean()\n",
    "spending_passing_reading = school_spending_df.groupby([\"Spending Ranges (Per Student)\"], observed=True)[\"Percentage Passing Reading\"].mean()\n",
    "overall_passing_spending = school_spending_df.groupby([\"Spending Ranges (Per Student)\"], observed=True)[\"Percentage Overall Passing Rate\"].mean()"
   ]
  },
  {
   "cell_type": "code",
   "execution_count": null,
   "id": "d4b8c924",
   "metadata": {},
   "outputs": [],
   "source": [
    "# Assemble into DataFrame\n",
    "spending_summary = pd.DataFrame({\"Average Math Score\": spending_math_scores,\n",
    "                                 \"Average Reading Score\": spending_reading_scores,\n",
    "                                 \"Percentage Passed Math\": spending_passing_math,\n",
    "                                 \"Percentage Passing Reading\": spending_passing_reading,\n",
    "                                 \"Percentage Overall Passing Rate\": overall_passing_spending\n",
    "                                 })\n",
    "spending_summary"
   ]
  },
  {
   "cell_type": "code",
   "execution_count": null,
   "id": "18763554",
   "metadata": {},
   "outputs": [],
   "source": [
    "# Establish the bins.\n",
    "size_bins = [0, 1000, 2000, 5000]\n",
    "labels = [\"Small (<1000)\", \"Medium (1000-2000)\", \"Large (2000-5000)\"]"
   ]
  },
  {
   "cell_type": "code",
   "execution_count": null,
   "id": "06d32e48",
   "metadata": {},
   "outputs": [],
   "source": [
    "# Categorise the spending based on the bins\n",
    "per_school_summary[\"School Size\"] = pd.cut(per_school_summary[\"Total Students\"], bins=size_bins, labels=labels)\n",
    "per_school_summary"
   ]
  },
  {
   "cell_type": "code",
   "execution_count": null,
   "id": "e4004293",
   "metadata": {},
   "outputs": [],
   "source": [
    "# Calculate averages for the desired columns.\n",
    "size_math_scores = per_school_summary.groupby([\"School Size\"], observed=True)[\"Average Math Score\"].mean()\n",
    "size_reading_scores = per_school_summary.groupby([\"School Size\"], observed=True)[\"Average Reading Score\"].mean()\n",
    "size_passing_math = per_school_summary.groupby([\"School Size\"], observed=True)[\"Percentage Passed Math\"].mean()\n",
    "size_passing_reading = per_school_summary.groupby([\"School Size\"], observed=True)[\"Percentage Passing Reading\"].mean()\n",
    "size_overall_passing = per_school_summary.groupby([\"School Size\"], observed=True)[\"Percentage Overall Passing Rate\"].mean()"
   ]
  },
  {
   "cell_type": "code",
   "execution_count": null,
   "id": "75e8c0a6",
   "metadata": {},
   "outputs": [],
   "source": [
    "# Create a DataFrame called `size_summary` that breaks down school performance based on school size (small, medium, or large).\n",
    "# Use the scores above to create a new DataFrame called `size_summary`\n",
    "size_summary = pd.DataFrame({\n",
    "    \"Average Math Score\": size_math_scores,\n",
    "    \"Average Reading Score\": size_reading_scores,\n",
    "    \"Percentage Passed Math\": size_passing_math,\n",
    "    \"Percentage Passing Reading\": size_passing_reading,\n",
    "    \"Percentage Overall Passing Rate\": size_overall_passing\n",
    "    })\n",
    "size_summary"
   ]
  },
  {
   "cell_type": "markdown",
   "id": "8abce323",
   "metadata": {},
   "source": [
    "# Scores by School Type"
   ]
  },
  {
   "cell_type": "code",
   "execution_count": null,
   "id": "e2f036d8",
   "metadata": {},
   "outputs": [],
   "source": [
    "# Group the per_school_summary DataFrame by \"School Type\" and average the results.\n",
    "average_math_score_by_type = per_school_summary.groupby([\"School Type\"])[\"Average Math Score\"].mean()\n",
    "average_reading_score_by_type = per_school_summary.groupby([\"School Type\"])[\"Average Reading Score\"].mean()\n",
    "average_percent_passing_math_by_type = per_school_summary.groupby([\"School Type\"])[\"Percentage Passed Math\"].mean()\n",
    "average_percent_passing_reading_by_type = per_school_summary.groupby([\"School Type\"])[\"Percentage Passing Reading\"].mean()\n",
    "average_percent_overall_passing_by_type = per_school_summary.groupby([\"School Type\"])[\"Percentage Overall Passing Rate\"].mean()"
   ]
  },
  {
   "cell_type": "code",
   "execution_count": null,
   "id": "cdd14d33",
   "metadata": {},
   "outputs": [],
   "source": [
    "# Assemble the new data by type into a DataFrame called `type_summary`\n",
    "type_summary = pd.DataFrame({\"Average Math Score\": average_math_score_by_type,\n",
    "                             \"Average Reading Score\": average_reading_score_by_type,\n",
    "                             \"Percentage Passed Math\": average_percent_passing_math_by_type,\n",
    "                             \"Percentage Passing Reading\": average_percent_passing_reading_by_type,\n",
    "                             \"Percentage Overall Passing Rate\": average_percent_overall_passing_by_type})\n",
    "\n",
    "# Display results\n",
    "type_summary"
   ]
  }
 ],
 "metadata": {
  "kernelspec": {
   "display_name": "Python 3 (ipykernel)",
   "language": "python",
   "name": "python3"
  },
  "language_info": {
   "codemirror_mode": {
    "name": "ipython",
    "version": 3
   },
   "file_extension": ".py",
   "mimetype": "text/x-python",
   "name": "python",
   "nbconvert_exporter": "python",
   "pygments_lexer": "ipython3",
   "version": "3.10.14"
  }
 },
 "nbformat": 4,
 "nbformat_minor": 5
}
